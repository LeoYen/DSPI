{
 "cells": [
  {
   "cell_type": "markdown",
   "metadata": {
    "colab_type": "text",
    "id": "0VMdqoAsp1x9"
   },
   "source": [
    "#  Series de tiempo\n",
    "\n",
    "El análisis de series de tiempo se suele utilizar para proyectar o pronosticar la evolución de una variable a lo largo del tiempo, a partir de información previa sobre esa misma variable. Es decir, tenemos que proyectar (plotear) una variable determinada (eje y) en función del tiempo (eje x). \n",
    "\n",
    "En este caso, nuestra variable de interés el el precio de la cebolla en India. Contamos con un dataset con información desagregada por ciudad. En principio, realizaremos un análisis exploratorio para observar su evolución temporal (1) y, luego, pronosticaremos el precio para los próximos periodos de tiempo con una serie de modelos básicos (2) y con otros más avanzados (3), incluyendo el modelo ARIMA.\n",
    "\n",
    "## 1) Análisis exploratorio y preprocessing\n",
    "\n",
    "El dataset tiene tres columnas (features o variables) sobre la ubicación del mercado mayorista donde se vendió cebolla:\n",
    "\n",
    "* **state**: esta es la abreviatura de 2/3 letras para el estado en India (PB es Punjab, etc.)\n",
    "* **ciudad**: esta es la ciudad en India (ABOHAR, BANGALORE y así sucesivamente)\n",
    "* **mercado**: esta es una cadena con la combinación del estado y la ciudad\n",
    "\n",
    "Tres están relacionados con la fecha de la transacción: \n",
    "\n",
    "* **mes**: mes en enero, febrero y así sucesivamente\n",
    "* **año**: año (YYYY)\n",
    "* **fecha**: la combinación de los dos anteriores\n",
    "\n",
    "Cuatro son acerca de la cantidad y el precio en este mercado mayorista (todas numéricas).\n",
    "\n",
    "* **cantidad**: la cantidad de cebolla que llega al mercado en ese mes en quintales (100 kg)\n",
    "* **priceMin**: el precio mínimo en el mes en Rs./quintal\n",
    "* **priceMax**: el precio máximo en el mes en Rs./quintal\n",
    "* **priceMod**: el precio modal en el mes en Rs./quintal\n",
    "\n",
    "### Generalizando, identificamos distintas ESTRUCTURAS DE DATOS...\n",
    "\n",
    "* **CATEGÓRICAS**: estado, ciudad, mercado\n",
    "* **INTERVALOS DE TIEMPO**: mes, año, fecha\n",
    "* **CUANTITATIVAS**: cantidad, precioMin, priceMax, priceModal"
   ]
  },
  {
   "cell_type": "code",
   "execution_count": null,
   "metadata": {
    "colab": {
     "autoexec": {
      "startup": false,
      "wait_interval": 0
     }
    },
    "colab_type": "code",
    "id": "EpZzDly4p1x-"
   },
   "outputs": [],
   "source": [
    "import pandas as pd\n",
    "import numpy as np\n",
    "import matplotlib.pyplot as plt\n",
    "%matplotlib inline\n",
    "\n",
    "# Import statsmodel\n",
    "import statsmodels.api as sm\n",
    "import statsmodels.formula.api as smf\n",
    "from statsmodels.tsa.stattools import adfuller"
   ]
  },
  {
   "cell_type": "code",
   "execution_count": null,
   "metadata": {
    "colab": {
     "autoexec": {
      "startup": false,
      "wait_interval": 0
     }
    },
    "colab_type": "code",
    "id": "X0CXpkNAp1yD"
   },
   "outputs": [],
   "source": [
    "df = pd.read_csv('file.csv')\n",
    "df.shape"
   ]
  },
  {
   "cell_type": "code",
   "execution_count": null,
   "metadata": {
    "colab": {
     "autoexec": {
      "startup": false,
      "wait_interval": 0
     }
    },
    "colab_type": "code",
    "id": "_mFYnRUXp1yJ"
   },
   "outputs": [],
   "source": [
    "df.tail()"
   ]
  },
  {
   "cell_type": "code",
   "execution_count": null,
   "metadata": {
    "colab": {
     "autoexec": {
      "startup": false,
      "wait_interval": 0
     }
    },
    "colab_type": "code",
    "id": "6_cHuzUxp1yP"
   },
   "outputs": [],
   "source": [
    "df.dtypes"
   ]
  },
  {
   "cell_type": "code",
   "execution_count": null,
   "metadata": {
    "colab": {
     "autoexec": {
      "startup": false,
      "wait_interval": 0
     }
    },
    "colab_type": "code",
    "id": "de2gEozcp1yU"
   },
   "outputs": [],
   "source": [
    "# Cambiamos el formado de la columna 'date'\n",
    "df.date = pd.DatetimeIndex(df.date)\n",
    "df['date'].dtype\n",
    "# es equivalente a datetime64"
   ]
  },
  {
   "cell_type": "code",
   "execution_count": null,
   "metadata": {},
   "outputs": [],
   "source": [
    "df.tail()"
   ]
  },
  {
   "cell_type": "code",
   "execution_count": null,
   "metadata": {
    "colab": {
     "autoexec": {
      "startup": false,
      "wait_interval": 0
     }
    },
    "colab_type": "code",
    "id": "Dw5nzdU-p1yX"
   },
   "outputs": [],
   "source": [
    "# Podemos reindexar nuestro dataframe \n",
    "df = df.sort_values(by = \"date\")\n",
    "df.index = pd.PeriodIndex(df.date, freq='M')\n",
    "df.head()"
   ]
  },
  {
   "cell_type": "code",
   "execution_count": null,
   "metadata": {
    "colab": {
     "autoexec": {
      "startup": false,
      "wait_interval": 0
     }
    },
    "colab_type": "code",
    "id": "KUGvN21Mp1ya"
   },
   "outputs": [],
   "source": [
    "len(pd.unique(df.year)), pd.unique(df.year)"
   ]
  },
  {
   "cell_type": "code",
   "execution_count": null,
   "metadata": {
    "colab": {
     "autoexec": {
      "startup": false,
      "wait_interval": 0
     }
    },
    "colab_type": "code",
    "id": "tCR4lNjFp1yg"
   },
   "outputs": [],
   "source": [
    "len(pd.unique(df.city)), pd.unique(df.city)"
   ]
  },
  {
   "cell_type": "markdown",
   "metadata": {
    "colab_type": "text",
    "id": "VNtedbp8p1yk"
   },
   "source": [
    "El precio en cada una de estas ciudades conforma una serie de tiempo. Vamos a ver cuál de estas ciudades tuvo mayor volumen de ventas y vamos a recortar nuestro análisis a esa ciudad."
   ]
  },
  {
   "cell_type": "code",
   "execution_count": null,
   "metadata": {
    "colab": {
     "autoexec": {
      "startup": false,
      "wait_interval": 0
     }
    },
    "colab_type": "code",
    "id": "wv51p6Wtp1yl"
   },
   "outputs": [],
   "source": [
    "df.groupby('city')['quantity'].sum().sort_values(ascending=False).head()"
   ]
  },
  {
   "cell_type": "markdown",
   "metadata": {
    "colab_type": "text",
    "id": "ZmTAild1p1yo"
   },
   "source": [
    "Nos quedamos entonces con la serie de tiempo de la ciudad de Bangalore."
   ]
  },
  {
   "cell_type": "code",
   "execution_count": null,
   "metadata": {
    "colab": {
     "autoexec": {
      "startup": false,
      "wait_interval": 0
     }
    },
    "colab_type": "code",
    "id": "CsYnk4yTp1yq"
   },
   "outputs": [],
   "source": [
    "dfBang = df[df.city == 'BANGALORE'].copy()\n",
    "dfBang.head()"
   ]
  },
  {
   "cell_type": "markdown",
   "metadata": {
    "colab_type": "text",
    "id": "IYufcxMYp1yu"
   },
   "source": [
    "Grafiquemos ahora el precio mínimo, el máximo y la moda para cada mes. "
   ]
  },
  {
   "cell_type": "code",
   "execution_count": null,
   "metadata": {
    "colab": {
     "autoexec": {
      "startup": false,
      "wait_interval": 0
     }
    },
    "colab_type": "code",
    "id": "3Y9nVZcSp1yw"
   },
   "outputs": [],
   "source": [
    "plt.style.use('ggplot')\n",
    "plt.rcParams['figure.figsize'] = (15, 10)\n",
    "dfBang.plot(kind = \"line\", y = ['priceMin', 'priceMod', 'priceMax']);"
   ]
  },
  {
   "cell_type": "markdown",
   "metadata": {
    "colab_type": "text",
    "id": "pqFkIYPtp1y1"
   },
   "source": [
    "Veamos lo que pasa si aplicamos una transformación logarítmica a la serie:"
   ]
  },
  {
   "cell_type": "code",
   "execution_count": null,
   "metadata": {
    "colab": {
     "autoexec": {
      "startup": false,
      "wait_interval": 0
     }
    },
    "colab_type": "code",
    "id": "CTTB7Wm6p1y2"
   },
   "outputs": [],
   "source": [
    "# Transformamos a logaritmo para reducir la variablidad de la serie\n",
    "dfBang['priceModLog'] = np.log(dfBang.priceMod)\n",
    "dfBang.head()"
   ]
  },
  {
   "cell_type": "code",
   "execution_count": null,
   "metadata": {
    "colab": {
     "autoexec": {
      "startup": false,
      "wait_interval": 0
     }
    },
    "colab_type": "code",
    "id": "DaOm-2ATp1y8"
   },
   "outputs": [],
   "source": [
    "plt.rcParams['figure.figsize'] = (15, 5)\n",
    "dfBang.priceModLog.plot();"
   ]
  },
  {
   "cell_type": "markdown",
   "metadata": {
    "colab_type": "text",
    "id": "1ChWWVnFp1y_"
   },
   "source": [
    "Como la transformación logaritmo no es lineal, observamos que las fluctuaciones son más parecidas entre sí al principio y al final de la serie. "
   ]
  },
  {
   "cell_type": "markdown",
   "metadata": {
    "colab_type": "text",
    "id": "suqgl4ypp1zB"
   },
   "source": [
    "## 2) Modelos básicos para prónosticos\n",
    "* Modelo de la media constante\n",
    "* Modelo de tendencia lineal\n",
    "* Modelo Random Walk\n",
    "\n",
    "\n",
    "La serie que vamos a intentar predecir con los siguientes modelos es la moda del precio mensual de la cebolla en el mercado de Bangalore. \n",
    "\n",
    "## 2.a) Media constante"
   ]
  },
  {
   "cell_type": "code",
   "execution_count": null,
   "metadata": {
    "colab": {
     "autoexec": {
      "startup": false,
      "wait_interval": 0
     }
    },
    "colab_type": "code",
    "id": "mMiLOXT2p1zB"
   },
   "outputs": [],
   "source": [
    "# Calculamos el promedio, uniforme para todos\n",
    "model_mean_pred = dfBang.priceModLog.mean()\n",
    "\n",
    "# Transformamos ese valor, inicialmente calculado en logaritmo, aplicando la inversa (exponencial)\n",
    "# Lo asignamos a una columna\n",
    "dfBang[\"priceMean\"] = np.exp(model_mean_pred)"
   ]
  },
  {
   "cell_type": "code",
   "execution_count": null,
   "metadata": {
    "colab": {
     "autoexec": {
      "startup": false,
      "wait_interval": 0
     }
    },
    "colab_type": "code",
    "id": "jEczp8Amp1zE"
   },
   "outputs": [],
   "source": [
    "# Ploteamos los valores originales\n",
    "dfBang.plot(kind=\"line\", x=\"date\", y = [\"priceMod\", \"priceMean\"]);"
   ]
  },
  {
   "cell_type": "markdown",
   "metadata": {
    "colab_type": "text",
    "id": "PEQUfn1vp1zH"
   },
   "source": [
    "* ¿Cuán bien ajusta esta estimación?\n",
    "\n",
    "Calculemos el Error Cuadrático Medio y su raíz..."
   ]
  },
  {
   "cell_type": "code",
   "execution_count": null,
   "metadata": {
    "colab": {
     "autoexec": {
      "startup": false,
      "wait_interval": 0
     }
    },
    "colab_type": "code",
    "id": "sTbtg775p1zI"
   },
   "outputs": [],
   "source": [
    "def RMSE(predicted, actual):\n",
    "    mse = (predicted - actual) ** 2\n",
    "    rmse = np.sqrt(mse.sum() / mse.count())\n",
    "    return rmse"
   ]
  },
  {
   "cell_type": "code",
   "execution_count": null,
   "metadata": {
    "colab": {
     "autoexec": {
      "startup": false,
      "wait_interval": 0
     }
    },
    "colab_type": "code",
    "id": "YgAFAs1yp1zL"
   },
   "outputs": [],
   "source": [
    "model_mean_RMSE = RMSE(dfBang.priceMean, dfBang.priceMod)\n",
    "model_mean_RMSE"
   ]
  },
  {
   "cell_type": "code",
   "execution_count": null,
   "metadata": {
    "colab": {
     "autoexec": {
      "startup": false,
      "wait_interval": 0
     }
    },
    "colab_type": "code",
    "id": "id1JFkVGp1zO"
   },
   "outputs": [],
   "source": [
    "# Guardamos todo en un dataframe\n",
    "dfBangResults = pd.DataFrame(columns = [\"Model\", \"Forecast\", \"RMSE\"])\n",
    "dfBangResults.loc[0, \"Model\"] = \"Mean\"\n",
    "dfBangResults.loc[0, \"Forecast\"] = np.exp(model_mean_pred)\n",
    "dfBangResults.loc[0, \"RMSE\"] = model_mean_RMSE\n",
    "dfBangResults.head()"
   ]
  },
  {
   "cell_type": "markdown",
   "metadata": {
    "colab_type": "text",
    "id": "VKBwAnBKp1zR"
   },
   "source": [
    "* ¿Cómo interpretás este resultado?"
   ]
  },
  {
   "cell_type": "markdown",
   "metadata": {
    "colab_type": "text",
    "id": "EKTEirNMp1zS"
   },
   "source": [
    "## 2.b) Tendencia lineal\n",
    "\n",
    "Continuaremos trabajando con la tendencia lineal entre priceModLog y time. Primero tenemos que crear un  indicador numérico para el período de tiempo para hacer una regresión lineal."
   ]
  },
  {
   "cell_type": "code",
   "execution_count": null,
   "metadata": {
    "colab": {
     "autoexec": {
      "startup": false,
      "wait_interval": 0
     }
    },
    "colab_type": "code",
    "id": "CYDeLXFKp1zT"
   },
   "outputs": [],
   "source": [
    "# Rotomamos el subset de Bangalore\n",
    "# Identificamos el punto de inicio de la data\n",
    "dfBang.date.min()"
   ]
  },
  {
   "cell_type": "code",
   "execution_count": null,
   "metadata": {
    "colab": {
     "autoexec": {
      "startup": false,
      "wait_interval": 0
     }
    },
    "colab_type": "code",
    "id": "GkjEPX0dp1zW"
   },
   "outputs": [],
   "source": [
    "# Convertimos nuestra data almacenada en 'date' en datetime-delta, comenzando por cero\n",
    "dfBang[\"timeIndex\"] = dfBang.date - dfBang.date.min()\n",
    "dfBang.head()"
   ]
  },
  {
   "cell_type": "code",
   "execution_count": null,
   "metadata": {
    "colab": {
     "autoexec": {
      "startup": false,
      "wait_interval": 0
     }
    },
    "colab_type": "code",
    "id": "aZ4ad524p1zY"
   },
   "outputs": [],
   "source": [
    "# Transformamos la última columna de días a meses con timedelta\n",
    "dfBang[\"timeIndex\"] =  dfBang[\"timeIndex\"] / np.timedelta64(1, 'M')\n",
    "dfBang.timeIndex.head()"
   ]
  },
  {
   "cell_type": "code",
   "execution_count": null,
   "metadata": {
    "colab": {
     "autoexec": {
      "startup": false,
      "wait_interval": 0
     }
    },
    "colab_type": "code",
    "id": "t8MSKIhWp1zd"
   },
   "outputs": [],
   "source": [
    "# Redondeamos, quitando todos los decimales\n",
    "dfBang[\"timeIndex\"] = dfBang[\"timeIndex\"].round(0).astype(int)\n",
    "dfBang.timeIndex.head()"
   ]
  },
  {
   "cell_type": "code",
   "execution_count": null,
   "metadata": {
    "colab": {
     "autoexec": {
      "startup": false,
      "wait_interval": 0
     }
    },
    "colab_type": "code",
    "id": "hC7-wYuPp1zf"
   },
   "outputs": [],
   "source": [
    "dfBang.head()"
   ]
  },
  {
   "cell_type": "code",
   "execution_count": null,
   "metadata": {
    "colab": {
     "autoexec": {
      "startup": false,
      "wait_interval": 0
     }
    },
    "colab_type": "code",
    "id": "8r5wSeWxp1zl"
   },
   "outputs": [],
   "source": [
    "# Ahora fiteamos nuestro modelo de regresión lineal entre priceMod y timeIndex\n",
    "model_linear = smf.ols('priceModLog ~ timeIndex', data = dfBang).fit()"
   ]
  },
  {
   "cell_type": "markdown",
   "metadata": {
    "colab_type": "text",
    "id": "TxhWOIahp1zq"
   },
   "source": [
    "El primer argumento corresponde a la forma funcional de nuestra estimación. [Más detalles](http://www.statsmodels.org/dev/examples/notebooks/generated/formulas.html)."
   ]
  },
  {
   "cell_type": "code",
   "execution_count": null,
   "metadata": {
    "colab": {
     "autoexec": {
      "startup": false,
      "wait_interval": 0
     }
    },
    "colab_type": "code",
    "id": "BzxZ8Uxhp1zr"
   },
   "outputs": [],
   "source": [
    "model_linear.summary()"
   ]
  },
  {
   "cell_type": "code",
   "execution_count": null,
   "metadata": {
    "colab": {
     "autoexec": {
      "startup": false,
      "wait_interval": 0
     }
    },
    "colab_type": "code",
    "id": "hnGe0ABup1zv"
   },
   "outputs": [],
   "source": [
    "model_linear_pred = model_linear.predict()\n",
    "model_linear_pred[:5]"
   ]
  },
  {
   "cell_type": "code",
   "execution_count": null,
   "metadata": {
    "colab": {
     "autoexec": {
      "startup": false,
      "wait_interval": 0
     }
    },
    "colab_type": "code",
    "id": "USVQv4JQp1zy"
   },
   "outputs": [],
   "source": [
    "# Ploteamos los resultados de la predicción\n",
    "dfBang.plot(kind = \"line\", x = \"timeIndex\", y = \"priceModLog\")\n",
    "plt.plot(dfBang.timeIndex, model_linear_pred, '-');"
   ]
  },
  {
   "cell_type": "code",
   "execution_count": null,
   "metadata": {
    "colab": {
     "autoexec": {
      "startup": false,
      "wait_interval": 0
     }
    },
    "colab_type": "code",
    "id": "Usyhqle-p1z1"
   },
   "outputs": [],
   "source": [
    "# Ploteamos los residuos de nuestra estimación\n",
    "model_linear.resid.plot(kind = \"bar\");"
   ]
  },
  {
   "cell_type": "markdown",
   "metadata": {
    "colab_type": "text",
    "id": "bHLouer-p1z3"
   },
   "source": [
    "* ¿Tenemos un mejor modelo respecto de la media constante? ¿Cómo podemos verificarlo?\n",
    "\n",
    "En ambos gráficos vemos que el modelo de tendencia lineal es propenso a cometer un error del mismo signo durante varios períodos seguidos. Este sesgo del modelo se mide en términos estadísticos mediante la **autocorrelación lag-1** (se denomina así a la correlación de una variable respecto a sí misma rezagada un período de tiempo) a través del estadístico **Durbin-Watson**. Si no hay un patrón de tiempo, la autocorrelación lag-1 debería ser muy cercana a cero (veamos el cuadro resumen del modelo más arriba) y, por lo tanto, la estadística de Durbin-Watson debería ser  muy cercana a 2 (no es este caso). Si el modelo ha logrado extraer toda la \"señal\" de los datos, no debería haber ningún patrón en los errores, es decir, el error del período siguiente no debería estar correlacionado con ningún error anterior como observamos aquí. El modelo de tendencia lineal suele fallar cuando se testea la autocorrelación."
   ]
  },
  {
   "cell_type": "code",
   "execution_count": null,
   "metadata": {
    "colab": {
     "autoexec": {
      "startup": false,
      "wait_interval": 0
     }
    },
    "colab_type": "code",
    "id": "XAz3qAJUp1z4"
   },
   "outputs": [],
   "source": [
    "dfBang[\"priceLinear\"] = np.exp(model_linear_pred)\n",
    "dfBang.head()"
   ]
  },
  {
   "cell_type": "code",
   "execution_count": null,
   "metadata": {
    "colab": {
     "autoexec": {
      "startup": false,
      "wait_interval": 0
     }
    },
    "colab_type": "code",
    "id": "gsN_ABPfp1z6"
   },
   "outputs": [],
   "source": [
    "# Root Mean Squared Error (RMSE)\n",
    "model_linear_RMSE = RMSE(dfBang.priceLinear, dfBang.priceMod)\n",
    "model_linear_RMSE"
   ]
  },
  {
   "cell_type": "code",
   "execution_count": null,
   "metadata": {
    "colab": {
     "autoexec": {
      "startup": false,
      "wait_interval": 0
     }
    },
    "colab_type": "code",
    "id": "OnsS_tInp1z9"
   },
   "outputs": [],
   "source": [
    "# Añadimos estos datos a nuestro DF de resultados para comparar con el modelo anterior\n",
    "dfBangResults.loc[1, \"Model\"] = \"Linear\"\n",
    "dfBangResults.loc[1, \"Forecast\"] = np.exp(model_linear_pred)\n",
    "dfBangResults.loc[1, \"RMSE\"] = model_linear_RMSE\n",
    "dfBangResults.head()"
   ]
  },
  {
   "cell_type": "code",
   "execution_count": null,
   "metadata": {
    "colab": {
     "autoexec": {
      "startup": false,
      "wait_interval": 0
     }
    },
    "colab_type": "code",
    "id": "TmAeT7PPp1z_"
   },
   "outputs": [],
   "source": [
    "# Ploteamos las dos estimaciones\n",
    "dfBang.plot(kind = \"line\", x = \"timeIndex\", y = [\"priceMod\", \"priceMean\", \"priceLinear\"]);"
   ]
  },
  {
   "cell_type": "markdown",
   "metadata": {
    "colab_type": "text",
    "id": "ozcip_BXp10C"
   },
   "source": [
    "### Tendencia lineal con un regresor\n",
    "\n",
    "Ahora vamos a explorar un modelo lineal que permite tener en cuenta la cantidad.\n",
    "Cuando incluimos un feature adicional (además del tiempo) en una serie de tiempo existen dos posibilidades:\n",
    "\n",
    "1. El regresor se conoce a la hora de pronosticar: por ejemplo, la ubicación donde la empresa estará en un momento del tiempo, que ya puede estar planificada.\n",
    "2. El regresor no se conoce a la hora de pronosticar: por ejemplo, la cantidad en este caso\n",
    "\n",
    "Cuando nos encontramos en el segundo escenario, tenemos que tener en cuenta que el modelo de serie de tiempo va a ser útil para entender las relaciones entre las variables recurriendo al pasado (es decir, para modelar) pero no para hacer pronósticos a futuro."
   ]
  },
  {
   "cell_type": "code",
   "execution_count": null,
   "metadata": {
    "colab": {
     "autoexec": {
      "startup": false,
      "wait_interval": 0
     }
    },
    "colab_type": "code",
    "id": "jFPafaOVp10D"
   },
   "outputs": [],
   "source": [
    "# Ahora estimamos una variante del modelo lineal, incluyendo el logaritmo de las cantidades como regresor\n",
    "model_linear_quantity = smf.ols('priceModLog ~ timeIndex + np.log(quantity)', data = dfBang).fit()\n",
    "model_linear_quantity.summary()"
   ]
  },
  {
   "cell_type": "code",
   "execution_count": null,
   "metadata": {
    "colab": {
     "autoexec": {
      "startup": false,
      "wait_interval": 0
     }
    },
    "colab_type": "code",
    "id": "mFlYjhESp10F"
   },
   "outputs": [],
   "source": [
    "dfBang[\"priceLinearQuantity\"] = np.exp(model_linear_quantity.predict())"
   ]
  },
  {
   "cell_type": "code",
   "execution_count": null,
   "metadata": {},
   "outputs": [],
   "source": [
    "dfBang.head()"
   ]
  },
  {
   "cell_type": "code",
   "execution_count": null,
   "metadata": {
    "colab": {
     "autoexec": {
      "startup": false,
      "wait_interval": 0
     }
    },
    "colab_type": "code",
    "id": "FmjXte4Ep10H"
   },
   "outputs": [],
   "source": [
    "model_linear_quantity.params"
   ]
  },
  {
   "cell_type": "code",
   "execution_count": null,
   "metadata": {},
   "outputs": [],
   "source": [
    "# Hacemos una predicción manualmente\n",
    "np.exp(model_linear_quantity.params[0] + model_linear_quantity.params[1] * 4 + \n",
    "       model_linear_quantity.params[2] * np.log(137390))"
   ]
  },
  {
   "cell_type": "code",
   "execution_count": null,
   "metadata": {
    "colab": {
     "autoexec": {
      "startup": false,
      "wait_interval": 0
     }
    },
    "colab_type": "code",
    "id": "PajIwcwlp10K"
   },
   "outputs": [],
   "source": [
    "# Calculamos el RMSE y lo añadimos al DF de resultados\n",
    "dfBangResults.loc[2, \"Model\"] = \"LinearQuantity\"\n",
    "dfBangResults.loc[2, \"Forecast\"] = np.exp(model_linear_quantity.predict())\n",
    "dfBangResults.loc[2, \"RMSE\"] = RMSE(dfBang.priceLinearQuantity, dfBang.priceMod)\n",
    "dfBangResults.head()"
   ]
  },
  {
   "cell_type": "code",
   "execution_count": null,
   "metadata": {
    "colab": {
     "autoexec": {
      "startup": false,
      "wait_interval": 0
     }
    },
    "colab_type": "code",
    "id": "_8ZUJvY-p10O"
   },
   "outputs": [],
   "source": [
    "dfBang.plot(kind = \"line\", x = \"timeIndex\", y = [\"priceMod\", \"priceMean\",\n",
    "                                                 \"priceLinear\", \"priceLinearQuantity\"]);"
   ]
  },
  {
   "cell_type": "markdown",
   "metadata": {
    "colab_type": "text",
    "id": "p7QkXnpvp10Q"
   },
   "source": [
    "Obsrvamos que al usar la cantidad para modelar el precio el modelo puede dar mejor cuenta de las fluctuaciones."
   ]
  },
  {
   "cell_type": "markdown",
   "metadata": {
    "colab_type": "text",
    "id": "fCHD0aiHp10R"
   },
   "source": [
    "## 2.c) Random Walk\n",
    "\n",
    "Decimos que un proceso $ {Y_t} $ es **random walk** (sigue una trayectoria al azar si):\n",
    "\n",
    "$$ \\hat {Y_t} = Y_ {t-1} + \\epsilon,  $$\n",
    "\n",
    "siendo \\epsilon **ruido blanco**. Si al modelo anterior le añadimos un desplazamiento *d*, obtenemos un **random walk con deriva (with drift)**:\n",
    "\n",
    "$$ \\hat {Y_t} = Y_ {t-1} + d + \\epsilon $$\n",
    "\n",
    "Cuando nos enfrentamos a una serie de tiempo que muestra una evolución irregular, la mejor estrategia no es tratar de predecir directamente el nivel de la serie en cada período (es decir, el valor Yt), sino el cambio que ocurre de un período al siguiente (es decir, la diferencia Yt - Yt-1). **Se observa la primera diferencia (o lag) de la serie para encontrar un patrón predecible**.\n",
    "\n",
    "A los efectos del pronóstico del próximo período, puede ser tan bueno predecir el nivel como la variación, ya que el cambio predicho puede agregarse al nivel actual para generar un nivel pronosticado. El caso más simple de dicho modelo es uno que siempre predice que el siguiente cambio será cero, como si la serie tuviera la misma probabilidad de subir o bajar en el próximo período, independientemente de lo que haya sucedido en el pasado."
   ]
  },
  {
   "cell_type": "code",
   "execution_count": null,
   "metadata": {
    "colab": {
     "autoexec": {
      "startup": false,
      "wait_interval": 0
     }
    },
    "colab_type": "code",
    "id": "cZ7AdKnRp10T"
   },
   "outputs": [],
   "source": [
    "# Generamos el desplazamiento de nuestro nuestro target (lag=1)\n",
    "dfBang[\"priceModLogShift1\"] = dfBang.priceModLog.shift()\n",
    "dfBang.head()"
   ]
  },
  {
   "cell_type": "code",
   "execution_count": null,
   "metadata": {
    "colab": {
     "autoexec": {
      "startup": false,
      "wait_interval": 0
     }
    },
    "colab_type": "code",
    "id": "JFmAj5uUp10W"
   },
   "outputs": [],
   "source": [
    "dfBang.plot(kind= \"scatter\", y = \"priceModLog\", x = \"priceModLogShift1\", s = 50);"
   ]
  },
  {
   "cell_type": "code",
   "execution_count": null,
   "metadata": {
    "colab": {
     "autoexec": {
      "startup": false,
      "wait_interval": 0
     }
    },
    "colab_type": "code",
    "id": "MXndp3epp10a"
   },
   "outputs": [],
   "source": [
    "# Ploteamos la relación entre nuestro target y el lag de un período\n",
    "dfBang[\"priceModLogDiff\"] = dfBang.priceModLog - dfBang.priceModLogShift1\n",
    "dfBang.priceModLogDiff.plot();"
   ]
  },
  {
   "cell_type": "code",
   "execution_count": null,
   "metadata": {
    "colab": {
     "autoexec": {
      "startup": false,
      "wait_interval": 0
     }
    },
    "colab_type": "code",
    "id": "VyadyyxFp10e"
   },
   "outputs": [],
   "source": [
    "dfBang[\"priceRandom\"] = np.exp(dfBang.priceModLogShift1)\n",
    "dfBang.tail()"
   ]
  },
  {
   "cell_type": "code",
   "execution_count": null,
   "metadata": {
    "colab": {
     "autoexec": {
      "startup": false,
      "wait_interval": 0
     }
    },
    "colab_type": "code",
    "id": "buj2oibVp10g"
   },
   "outputs": [],
   "source": [
    "dfBang.plot(kind=\"line\", x=\"timeIndex\", y = [\"priceMod\", \"priceRandom\"]);"
   ]
  },
  {
   "cell_type": "code",
   "execution_count": null,
   "metadata": {
    "colab": {
     "autoexec": {
      "startup": false,
      "wait_interval": 0
     }
    },
    "colab_type": "code",
    "id": "Ou_TjN2Xp10k"
   },
   "outputs": [],
   "source": [
    "# Calculamos el RMSE y almacenamos los resultados\n",
    "dfBangResults.loc[3, \"Model\"] = \"Random\"\n",
    "dfBangResults.loc[3, \"Forecast\"] = dfBang.priceRandom.values\n",
    "dfBangResults.loc[3, \"RMSE\"] = RMSE(dfBang.priceRandom, dfBang.priceMod)\n",
    "dfBangResults.head()"
   ]
  },
  {
   "cell_type": "code",
   "execution_count": null,
   "metadata": {
    "colab": {
     "autoexec": {
      "startup": false,
      "wait_interval": 0
     }
    },
    "colab_type": "code",
    "id": "iyJ87vJcp10p"
   },
   "outputs": [],
   "source": [
    "dfBang.plot(kind = \"line\", x = \"timeIndex\", y = [\"priceMod\", \"priceMean\", \"priceLinear\", \"priceRandom\"]);"
   ]
  },
  {
   "cell_type": "markdown",
   "metadata": {
    "colab_type": "text",
    "id": "1IOujLkZp10u"
   },
   "source": [
    "## BASE para el ANÁLISIS de las SERIES de TIEMPO\n",
    "\n",
    "La mayoría de los modelos de series de tiempo funcionan bajo el supuesto de que la serie temporal es estacionaria. Intuitivamente, podemos ver que si una serie de tiempo tiene un comportamiento particular a lo largo del tiempo, existe una gran probabilidad de que siga igual en el futuro. Además, las herramientas relacionadas con series estacionarias han sido más desarrolladas y son más fáciles de implementar que aquellas relacionadas con series que no lo son.\n",
    "\n",
    "**Los modelos AR y MA requieren para funcionar que la serie sea estacionaria**. La evolución de estos dos modelos, **los ARIMA**, a diferencia de aquellos, pueden trabajar con series no estacionarias.\n",
    "\n",
    "**Estacionariedad estadística:** se dice que un proceso estocástico es estacionario si su media y su varianza son constantes\n",
    "en el tiempo y si el valor de la covarianza entre dos periodos depende sólo de la distancia\n",
    "o rezago entre estos dos periodos, y no del tiempo. La mayoría de los métodos de pronóstico estadístico se basan en la suposición de que las series de tiempo pueden ser representadas como estacionarias (es decir, \"desestacionalizadas\") mediante el uso de transformaciones matemáticas. Una serie estacionaria es relativamente fácil de predecir: ¡simplemente predice que sus propiedades estadísticas serán las mismas en el futuro que en el pasado!\n",
    "\n",
    "Hay tres criterios básicos para que una serie se clasifique como serie estacionaria:\n",
    "\n",
    "* La <strong> media </strong> de la serie no debe ser una función del tiempo sino una constante.\n",
    "# <center>\n",
    "<img src='https://image.ibb.co/edfijG/Mean_nonstationary.png'>\n",
    "<br>\n",
    "\n",
    "* La <strong>  varianza </strong> de la serie no debe ser una función del tiempo. Esta propiedad se conoce como homocedasticidad y representa que la serie tiene varianza homogénea a lo largo del tiempo.\n",
    "# <center>\n",
    "<img src='https://image.ibb.co/n1kurw/Var_nonstationary.png'>\n",
    "<br>\n",
    "\n",
    "* La <strong> covarianza </strong>  del primer término y el término (i + m) no deberían ser una función del tiempo.\n",
    "# <center>\n",
    "<img src='https://image.ibb.co/hNCw4G/Cov_nonstationary.png'>"
   ]
  },
  {
   "cell_type": "markdown",
   "metadata": {
    "colab_type": "text",
    "id": "yISnlaGyp10v"
   },
   "source": [
    "### ¿Cómo hacemos para que una serie de tiempo sea estacionaria?\n",
    "Hay 3 componentes centrales vinculados con la **no estacionariedad** de la serie de tiempo:\n",
    "\n",
    "* **Tendencia (T)**: existe una tendencia cuando hay un aumento o una disminución del nivel (de la variable en cuestión) a largo plazo. No tiene que ser lineal necesariamente. A veces, nos referiremos a un cambio en la dirección (punto de inflexión) de la serie cuando la tendencia pasa de ser creciente a decreciente.\n",
    "\n",
    "* **Estacionalidad (S, por seasonality)**: existe un patrón estacional cuando una serie está influenciada por factores estacionales (por ejemplo, el trimestre del año en lo que refiere a vacaciones o zafra; el mes si contemplamos crecimiento de ventas (ligado a Navidad, por ejemplo); o el día de la semana). La estacionalidad es siempre de un período fijo y conocido.\n",
    "\n",
    "* **Cíclico**: existe un patrón cíclico cuando los datos exhibidos suben y bajan sin respetar el período fijo ligado a la estacionalidad. Para fenómenos económicos, por ejemplo, la duración de estas fluctuaciones suele ser de al menos 2 años: si estuviésemos analizando el PBI de un país, los ciclos económicos con años de crecimiento seguidos de otros de recesión constituyen un buen ejemplo. Sin embargo, cuando hay poca información o las variaciones cíclicas no son muy pronunciadas, este componente puede quedar subsumido al de la tendencia.\n",
    "\n",
    "Podemos describir el comportamiento de la serie a partir de un modelo **aditivo**:\n",
    "\n",
    "$$ y_t = T_t + S_t + E_t \\\\ $$\n",
    "\n",
    "donde $ y_t $ son los datos en el período t, $ T_t $ es el componente del ciclo de tendencia en el período *t*, $ S_t $ es el componente estacional en el período *t* y $ E_t $ es el componente restante (o irregular o error) en el período *t*.\n",
    "\n",
    "Alternativamente, un modelo **multiplicativo** se escribiría como\n",
    "\n",
    "$$ y_t = T_t * S_t * E_t \\\\ $$\n",
    "\n",
    "El modelo aditivo es más apropiado si la magnitud de las fluctuaciones estacionales o la variación en torno al ciclo de tendencia no varía con el nivel de la serie temporal. Cuando la variación en el patrón estacional, o la variación alrededor del ciclo de tendencia, parece ser proporcional al nivel de la serie temporal, entonces un modelo multiplicativo es más apropiado. Con series de tiempo económicas, los modelos multiplicativos son comunes.\n",
    "\n",
    "Una alternativa al uso de un modelo multiplicativo es transformar primero los datos hasta que la variación en la serie parezca estable a lo largo del tiempo y luego usar un modelo aditivo. Cuando se ha utilizado una transformación de registro, como por ejemplo el pasaje a escala logarítmica, esto es equivalente a usar una descomposición multiplicativa por las propiedades de esta transformación:\n",
    "\n",
    "$$ log y_t = log T_t + log S_t + log E_t \\\\ $$"
   ]
  },
  {
   "cell_type": "markdown",
   "metadata": {
    "colab_type": "text",
    "id": "XeyU6VGQp10w"
   },
   "source": [
    "## 3) Modelos intermedios y avanzados para pronósticos\n",
    "\n",
    "## 3.a.i) Media móvil (simple moving average)\n",
    "\n",
    "Como primer paso para ir más allá de los modelos básicos, podemos emplear un modelo suavizado a partir de la **media móvil**. El supuesto subyacente reside en que la serie temporal sea **localmente estacionaria** con una media que varía lentamente. \n",
    "Por lo tanto, tomamos un promedio móvil (local) para estimar el valor actual de la media y luego lo usamos como pronóstico para el futuro cercano. Esto se puede considerar como un punto medio entre el modelo de media constante y el Random Walk. La misma estrategia se puede usar para estimar y extrapolar una tendencia local.\n",
    "\n",
    "Un promedio móvil a menudo se denomina versión \"suavizada\" de la serie original porque el promedio a corto plazo tiene el efecto de suavizar los baches en la serie original. Al ajustar el grado de suavización (el ancho de la media móvil o la cantidad de períodos considerados para dicho cálculo), podemos esperar encontrar algún tipo de equilibrio óptimo entre los dos modelos básicos recién mencionados.\n",
    "\n",
    "$$ \\hat {y_t} = \\frac {y_ {t-1} + y_ {t-2} + y_ {t-3} + ... + y_ {t-m}} {m} \\\\ $$"
   ]
  },
  {
   "cell_type": "code",
   "execution_count": null,
   "metadata": {
    "colab": {
     "autoexec": {
      "startup": false,
      "wait_interval": 0
     }
    },
    "colab_type": "code",
    "id": "lKhVy3N2p10x"
   },
   "outputs": [],
   "source": [
    "# Calculamos la media móvil de 12 meses para suavizar los valores y ploteamos\n",
    "dfBang['priceModLogMA12'] = dfBang.priceModLog.rolling(window = 12).mean()\n",
    "dfBang.plot(kind =\"line\", y = [\"priceModLogMA12\", \"priceModLog\"]);"
   ]
  },
  {
   "cell_type": "markdown",
   "metadata": {
    "colab_type": "text",
    "id": "oK1Rskxep104"
   },
   "source": [
    "¿Podemos concluir que la media varía a lo largo del tiempo?"
   ]
  },
  {
   "cell_type": "code",
   "execution_count": null,
   "metadata": {
    "colab": {
     "autoexec": {
      "startup": false,
      "wait_interval": 0
     }
    },
    "colab_type": "code",
    "id": "YzMSRt2kp106"
   },
   "outputs": [],
   "source": [
    "dfBang[\"priceMA12\"] = np.exp(dfBang.priceModLogMA12)\n",
    "dfBang.tail()"
   ]
  },
  {
   "cell_type": "code",
   "execution_count": null,
   "metadata": {
    "colab": {
     "autoexec": {
      "startup": false,
      "wait_interval": 0
     }
    },
    "colab_type": "code",
    "id": "dJ9u3KLHp109"
   },
   "outputs": [],
   "source": [
    "# Incorporamos estimaciones y resultados a nuestro DF\n",
    "dfBangResults.loc[4,\"Model\"] = \"Moving Average 12\"\n",
    "dfBangResults.loc[4,\"Forecast\"] = np.exp(dfBang['priceModLogMA12'].values)\n",
    "dfBangResults.loc[4,\"RMSE\"] = RMSE(dfBang.priceMA12, dfBang.priceMod)\n",
    "\n",
    "dfBang.priceModLog.tail(12).mean()\n",
    "dfBangResults.head()"
   ]
  },
  {
   "cell_type": "code",
   "execution_count": null,
   "metadata": {
    "colab": {
     "autoexec": {
      "startup": false,
      "wait_interval": 0
     }
    },
    "colab_type": "code",
    "id": "NlOgMa9Sp11F"
   },
   "outputs": [],
   "source": [
    "dfBang.plot(kind = \"line\", x = \"timeIndex\", y = [\"priceMod\", \"priceMean\", \"priceLinear\",\n",
    "                                                 \"priceRandom\", \"priceMA12\"]);"
   ]
  },
  {
   "cell_type": "markdown",
   "metadata": {
    "colab_type": "text",
    "id": "0mffxz6tp11L"
   },
   "source": [
    "En ambos casos, podemos rechazar la hipótesis nula y, por lo tanto, considerar la serie como estacionaria."
   ]
  },
  {
   "cell_type": "markdown",
   "metadata": {
    "colab_type": "text",
    "id": "ymE_tzyLp11M"
   },
   "source": [
    "## 3.b.ii) Modelo ARIMA\n",
    "\n",
    "El modelo ARIMA sin estacionalidad surge por la combinación de:\n",
    "* un modelo Auto-Regresivo (AR, p), basado en la diferenciación o rezago de la serie y\n",
    "* un modelo de media móvil (MA por moving average, q).\n",
    "\n",
    "Su denominación es producto de las siglas en inglés: **AutoRegressive Integrated Moving Average** model. \"Integrated\" (integrado) en este contexto refiere a revertir la diferenciación que mencionamos anteriormente. Veamos un mayor detalle de los dos modelos que componen ARIMA:\n",
    "\n",
    "### Modelos Auto-Regresivos - AR (p)\n",
    "\n",
    "En un modelo de autorregresión, pronosticamos la variable de interés usando una combinación lineal de valores pasados de la variable en cuestión. El término autoregresión indica que es una regresión de la variable contra sí misma. Por lo tanto, un modelo de **orden autorregresivo (p)** se puede escribir como:\n",
    "\n",
    "$$ y_t = c + \\phi_1 y_{t-1} + \\phi_2 y_{t-2} + \\phi_3 y_{t-3} + .. \\\\ $$\n",
    "El Random Walk es un modelo AR (1) con $$ \\phi_1 = 1,  c = 0 \\\\ $$ El Random Walk with drift (deriva) $$ \\phi_1 = 1,  c \\ != 0 \\\\ $$\n",
    "\n",
    "Normalmente restringimos los modelos autorregresivos a datos estacionarios; también pueden ser necesarias algunas condiciones sobre los valores de los parámetros. Para un modelo AR (1), la condición de estacionariedad se determina como: $$ |\\phi_1| < 1 $$.\n",
    "\n",
    "### Modelo de media móvil - MA (q)\n",
    "\n",
    "En lugar de utilizar valores pasados de la variable a pronosticar mediante una regresión, un modelo de media móvil usa **errores de pronósticos anteriores** en un modelo similar a una regresión.\n",
    "\n",
    "$$ y_t = c + e_t + \\theta_1 e_{t-1} + \\theta_2 e_{t-2} + ... + \\theta_q e_{t-q} \\\\ $$\n",
    "\n",
    "donde **e es ruido blanco**. Nos referimos a esto como un modelo **MA (q)**, donde *q* representa la **cantidad de rezagos** considerados en el modelo. Por supuesto, no observamos los valores de $ {e_t} $, por lo que no es realmente regresión en el sentido habitual.\n",
    "\n",
    "Veamos que cada valor de $ {y_t} $ se puede considerar como una media móvil ponderada de los últimos errores de pronóstico. Sin embargo, los modelos basados en la media móvil no deben confundirse con el suavizado del promedio móvil. Se usa un modelo de promedio móvil para pronosticar valores futuros, mientras que el suavizado promedio móvil se usa para estimar el ciclo de tendencia de valores pasados.\n",
    "\n",
    "### Modelo ARIMA \n",
    "\n",
    "El modelo completo se puede escribir como:\n",
    "\n",
    "* **Número de términos AR (autorregresivos) (p)**: los términos AR son solo rezagos de la variable dependiente. Por ejemplo, si *p* es 5, los predictores para  $ {y_t} $  serán  $ y_{t-1} $, $ y_{t-2} $  ... y  $ y_{t-5} $ .\n",
    "\n",
    "* **Número de términos MA (promedio móvil) (q)**: los términos MA son errores de pronóstico rezagados en la ecuación de predicción. Por ejemplo, si *q* es 5, los predictores para $ {e_t} $ serán $ e_{t-1} $, $ e_{t-2} $ ... $ e_{t-5} $ donde $ {e_t} $ es la diferencia entre el valor estimado y el valor instantáneo y real.\n",
    "\n",
    "* **Número de diferencias (d)**: son las diferencias no estacionales que necesitamos para la estacionariedad, es decir, en este caso tomamos la diferencia de primer orden. Entonces, o podemos pasar esa variable y poner *d* = 0 o pasar la variable original y poner *d* = 1. Ambos generarán los mismos resultados.\n",
    "\n",
    "Una preocupación importante aquí es cómo determinar el valor de *p* y *q*. Usamos dos vías para determinar estos parámetros, veamos:\n",
    "\n",
    "* **Función de autocorrelación (ACF)**: es una medida de la correlación entre la serie y su rezago, también se conoce como la función de autocorrelación total. La FAC en el rezago *k*, denotada por $ \\rho_k $, se define como:\n",
    "\n",
    "$$ \\rho_k = \\frac {\\gamma_k} {\\gamma_0} $$\n",
    "\n",
    "* **Función de autocorrelación parcial (PACF)**: mide la correlación entre la serie y su rezago después de eliminar las variaciones ya explicadas por las comparaciones intermedias. Por ejemplo, en el desfasaje 5, comprueba la correlación tras eliminar los efectos ya explicados por los rezagos 1 a 4.\n",
    "\n",
    "En el modelo MA, el ruido (shock) se desvanece rápidamente con el tiempo. En sentido opuesto, el modelo AR tiene un efecto muy duradero del shock. De ahí que, mientras el primero se enfoca en períodos cortos de tiempo, el segundo prioriza el más largo plazo."
   ]
  },
  {
   "cell_type": "code",
   "execution_count": null,
   "metadata": {
    "colab": {
     "autoexec": {
      "startup": false,
      "wait_interval": 0
     }
    },
    "colab_type": "code",
    "id": "GQBh1n3Bp11N"
   },
   "outputs": [],
   "source": [
    "ts = dfBang.priceModLog\n",
    "ts_diff = dfBang.priceModLogDiff\n",
    "ts_diff.dropna(inplace = True)"
   ]
  },
  {
   "cell_type": "code",
   "execution_count": null,
   "metadata": {
    "colab": {
     "autoexec": {
      "startup": false,
      "wait_interval": 0
     }
    },
    "colab_type": "code",
    "id": "lSA7Cs5Op11Q"
   },
   "outputs": [],
   "source": [
    "# Importamos plots ACF y PACF\n",
    "from statsmodels.tsa.stattools import acf, pacf"
   ]
  },
  {
   "cell_type": "code",
   "execution_count": null,
   "metadata": {
    "colab": {
     "autoexec": {
      "startup": false,
      "wait_interval": 0
     }
    },
    "colab_type": "code",
    "id": "Hps3_nDbp11Z"
   },
   "outputs": [],
   "source": [
    "lag_acf = acf(ts_diff, nlags = 20)\n",
    "lag_acf"
   ]
  },
  {
   "cell_type": "code",
   "execution_count": null,
   "metadata": {
    "colab": {
     "autoexec": {
      "startup": false,
      "wait_interval": 0
     }
    },
    "colab_type": "code",
    "id": "ruf3S9L5p11e"
   },
   "outputs": [],
   "source": [
    "ACF = pd.Series(lag_acf)\n",
    "ACF.plot(kind = \"bar\");"
   ]
  },
  {
   "cell_type": "code",
   "execution_count": null,
   "metadata": {
    "colab": {
     "autoexec": {
      "startup": false,
      "wait_interval": 0
     }
    },
    "colab_type": "code",
    "id": "i0_kEGWfp11h"
   },
   "outputs": [],
   "source": [
    "lag_pacf = pacf(ts_diff, nlags=20, method='ols');"
   ]
  },
  {
   "cell_type": "code",
   "execution_count": null,
   "metadata": {
    "colab": {
     "autoexec": {
      "startup": false,
      "wait_interval": 0
     }
    },
    "colab_type": "code",
    "id": "uFvVxL1Kp11j"
   },
   "outputs": [],
   "source": [
    "PACF = pd.Series(lag_pacf)\n",
    "PACF.plot(kind = \"bar\");"
   ]
  },
  {
   "cell_type": "code",
   "execution_count": null,
   "metadata": {
    "colab": {
     "autoexec": {
      "startup": false,
      "wait_interval": 0
     }
    },
    "colab_type": "code",
    "id": "NRvZ_VHNp11p"
   },
   "outputs": [],
   "source": [
    "# Veamos qué parámetros son significativamente distintos de cero\n",
    "\n",
    "#Plot ACF:\n",
    "plt.subplot(121)\n",
    "plt.plot(lag_acf)\n",
    "plt.axhline(y=0,linestyle='--',color='gray')\n",
    "plt.axhline(y=-1.96/np.sqrt(len(ts)),linestyle='--',color='gray')\n",
    "plt.axhline(y=1.96/np.sqrt(len(ts)),linestyle='--',color='gray')\n",
    "plt.title('Autocorrelation Function')\n",
    "\n",
    "#Plot PACF:\n",
    "plt.subplot(122)\n",
    "plt.plot(lag_pacf)\n",
    "plt.axhline(y=0,linestyle='--',color='gray')\n",
    "plt.axhline(y=-1.96/np.sqrt(len(ts)),linestyle='--',color='gray')\n",
    "plt.axhline(y=1.96/np.sqrt(len(ts)),linestyle='--',color='gray')\n",
    "plt.title('Partial Autocorrelation Function')\n",
    "plt.tight_layout();"
   ]
  },
  {
   "cell_type": "markdown",
   "metadata": {
    "colab_type": "text",
    "id": "_aP5LMk6p11s"
   },
   "source": [
    "En la función de autocorrelación, el primer order es estadísticamente significativo y en los períodos siguientes el shock se licúa y los parámetros son cercanos a 0. Es por esto que vamos a elegir un modelo MA(1). "
   ]
  },
  {
   "cell_type": "markdown",
   "metadata": {
    "colab_type": "text",
    "id": "_aP5LMk6p11s"
   },
   "source": [
    "En la función autocorrelación parcial, el primer order es estadísticamente significativo y en los períodos siguientes el shock se licúa y los parámetros son cercanos a 0. Es por esto que vamos a elegir un modelo AR(1). "
   ]
  },
  {
   "cell_type": "markdown",
   "metadata": {
    "colab_type": "text",
    "id": "C_t-5irFp11t"
   },
   "source": [
    "### Modelando con ARIMA"
   ]
  },
  {
   "cell_type": "code",
   "execution_count": null,
   "metadata": {
    "colab": {
     "autoexec": {
      "startup": false,
      "wait_interval": 0
     }
    },
    "colab_type": "code",
    "id": "VYvPn4jep11t"
   },
   "outputs": [],
   "source": [
    "from statsmodels.tsa.arima_model import ARIMA\n",
    "ts.head()"
   ]
  },
  {
   "cell_type": "code",
   "execution_count": null,
   "metadata": {
    "colab": {
     "autoexec": {
      "startup": false,
      "wait_interval": 0
     }
    },
    "colab_type": "code",
    "id": "dFbbxEZgp11w"
   },
   "outputs": [],
   "source": [
    "# Instancio el modelo con parámetros (p=1, d=0, q=1) según el análisis de ACF y PACF\n",
    "# En este caso d=0 porque trabajamos directamente con las diferencias\n",
    "model_AR1MA = ARIMA(ts_diff, order=(1,0,1))\n",
    "\n",
    "# Fiteo el modelo\n",
    "results_ARIMA = model_AR1MA.fit()\n",
    "results_ARIMA.fittedvalues.head()"
   ]
  },
  {
   "cell_type": "code",
   "execution_count": null,
   "metadata": {
    "colab": {
     "autoexec": {
      "startup": false,
      "wait_interval": 0
     }
    },
    "colab_type": "code",
    "id": "6JTCv6UHp110"
   },
   "outputs": [],
   "source": [
    "print(results_ARIMA.summary())"
   ]
  },
  {
   "cell_type": "code",
   "execution_count": null,
   "metadata": {
    "colab": {
     "autoexec": {
      "startup": false,
      "wait_interval": 0
     }
    },
    "colab_type": "code",
    "id": "0ulmI8p7p113"
   },
   "outputs": [],
   "source": [
    "ts_diff.plot()\n",
    "results_ARIMA.fittedvalues.plot();"
   ]
  },
  {
   "cell_type": "code",
   "execution_count": null,
   "metadata": {
    "colab": {
     "autoexec": {
      "startup": false,
      "wait_interval": 0
     }
    },
    "colab_type": "code",
    "id": "N93saZRBp12B"
   },
   "outputs": [],
   "source": [
    "ts_diff.sum()"
   ]
  },
  {
   "cell_type": "code",
   "execution_count": null,
   "metadata": {
    "colab": {
     "autoexec": {
      "startup": false,
      "wait_interval": 0
     }
    },
    "colab_type": "code",
    "id": "Ixj7MBbjp12D"
   },
   "outputs": [],
   "source": [
    "predictions_ARIMA_diff = pd.Series(results_ARIMA.fittedvalues, copy=True)\n",
    "predictions_ARIMA_diff.tail()"
   ]
  },
  {
   "cell_type": "code",
   "execution_count": null,
   "metadata": {
    "colab": {
     "autoexec": {
      "startup": false,
      "wait_interval": 0
     }
    },
    "colab_type": "code",
    "id": "JS7mwrq1p12F"
   },
   "outputs": [],
   "source": [
    "predictions_ARIMA_diff_cumsum = predictions_ARIMA_diff.cumsum()\n",
    "predictions_ARIMA_diff_cumsum.tail()"
   ]
  },
  {
   "cell_type": "code",
   "execution_count": null,
   "metadata": {
    "colab": {
     "autoexec": {
      "startup": false,
      "wait_interval": 0
     }
    },
    "colab_type": "code",
    "id": "nd3a-u9qp12I"
   },
   "outputs": [],
   "source": [
    "ts.iloc[0]"
   ]
  },
  {
   "cell_type": "code",
   "execution_count": null,
   "metadata": {
    "colab": {
     "autoexec": {
      "startup": false,
      "wait_interval": 0
     }
    },
    "colab_type": "code",
    "id": "bGdUxiCOp12L"
   },
   "outputs": [],
   "source": [
    "predictions_ARIMA_log = pd.Series(ts.iloc[0], index=ts.index)\n",
    "predictions_ARIMA_log = predictions_ARIMA_log.add(predictions_ARIMA_diff_cumsum, fill_value=0)\n",
    "predictions_ARIMA_log.tail()"
   ]
  },
  {
   "cell_type": "code",
   "execution_count": null,
   "metadata": {
    "colab": {
     "autoexec": {
      "startup": false,
      "wait_interval": 0
     }
    },
    "colab_type": "code",
    "id": "JXG_211-p12N"
   },
   "outputs": [],
   "source": [
    "# Guardamos nuestros resultados\n",
    "dfBang['priceARIMA'] = np.exp(predictions_ARIMA_log)"
   ]
  },
  {
   "cell_type": "code",
   "execution_count": null,
   "metadata": {
    "colab": {
     "autoexec": {
      "startup": false,
      "wait_interval": 0
     }
    },
    "colab_type": "code",
    "id": "3y4YFLzfp12T"
   },
   "outputs": [],
   "source": [
    "# Incorporamos estimaciones y resultados a nuestro DF\n",
    "dfBangResults.loc[5,\"Model\"] = \"ARIMA\"\n",
    "dfBangResults.loc[5,\"Forecast\"] = dfBang.priceARIMA[-1]\n",
    "dfBangResults.loc[5,\"RMSE\"] = RMSE(dfBang.priceARIMA, dfBang.priceMod)"
   ]
  },
  {
   "cell_type": "code",
   "execution_count": null,
   "metadata": {
    "colab": {
     "autoexec": {
      "startup": false,
      "wait_interval": 0
     }
    },
    "colab_type": "code",
    "id": "NqwFRs-Lp12c"
   },
   "outputs": [],
   "source": [
    "dfBangResults.head(10)"
   ]
  },
  {
   "cell_type": "code",
   "execution_count": null,
   "metadata": {
    "colab": {
     "autoexec": {
      "startup": false,
      "wait_interval": 0
     }
    },
    "colab_type": "code",
    "id": "pHBWS7gvp12f"
   },
   "outputs": [],
   "source": [
    "dfBang.plot(kind = \"line\", x = \"timeIndex\", y = [\"priceMod\", \"priceARIMA\"]);"
   ]
  },
  {
   "cell_type": "code",
   "execution_count": null,
   "metadata": {
    "colab": {
     "autoexec": {
      "startup": false,
      "wait_interval": 0
     }
    },
    "colab_type": "code",
    "id": "LyWJ7ioxp12m"
   },
   "outputs": [],
   "source": [
    "dfBang.plot(kind = \"line\", x = \"timeIndex\", y = [\"priceMod\", \"priceRandom\",\n",
    "                                                 \"priceMA12\", \"priceARIMA\"]);"
   ]
  },
  {
   "cell_type": "markdown",
   "metadata": {
    "colab_type": "text",
    "id": "xqMC4lUip12o"
   },
   "source": [
    "* ¿Qué modelo performa mejor? ¿Elegirías alguno? ¿Por qué?"
   ]
  }
 ],
 "metadata": {
  "colab": {
   "default_view": {},
   "name": "PRACTICA_GUIADA_SeriesTiempo.ipynb",
   "provenance": [],
   "version": "0.3.2",
   "views": {}
  },
  "kernelspec": {
   "display_name": "Python 3",
   "language": "python",
   "name": "python3"
  },
  "language_info": {
   "codemirror_mode": {
    "name": "ipython",
    "version": 3
   },
   "file_extension": ".py",
   "mimetype": "text/x-python",
   "name": "python",
   "nbconvert_exporter": "python",
   "pygments_lexer": "ipython3",
   "version": "3.6.3"
  }
 },
 "nbformat": 4,
 "nbformat_minor": 1
}
